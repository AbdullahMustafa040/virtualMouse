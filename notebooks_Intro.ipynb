{
  "cells": [
    {
      "cell_type": "code",
      "execution_count": null,
      "id": "a6509dea-eb24-4dab-8c01-14bf6d090537",
      "metadata": {
        "trusted": true
      },
      "outputs": [],
      "source": [
        "pip install opencv-python\n",
        "pip install PyAutoGUI\n",
        "pip install mediapipe\n"
      ]
    },
    {
      "cell_type": "code",
      "execution_count": null,
      "id": "c370f937-a81f-4d5b-8c6b-ce09dd5a5a54",
      "metadata": {
        "trusted": true
      },
      "outputs": [],
      "source": [
        "import cv2\n",
        "import mediapipe as mp\n",
        "import pyautogui\n",
        "print(\"Hello\")\n",
        "cap = cv2.VideoCapture(0)\n",
        "hand_detector = mp.solutions.hands.Hands()\n",
        "drawing_utils = mp.solutions.drawing_utils\n",
        "screen_width, screen_height = pyautogui.size()\n",
        "index_y = 0\n",
        "while True:\n",
        "    _, frame = cap.read()\n",
        "    frame = cv2.flip(frame, 1)\n",
        "    frame_height, frame_width, _ = frame.shape\n",
        "    rgb_frame = cv2.cvtColor(frame, cv2.COLOR_BGR2RGB)\n",
        "    output = hand_detector.process(rgb_frame)\n",
        "    hands = output.multi_hand_landmarks\n",
        "    if hands:\n",
        "        for hand in hands:\n",
        "            drawing_utils.draw_landmarks(frame, hand)\n",
        "            landmarks = hand.landmark\n",
        "            for id, landmark in enumerate(landmarks):\n",
        "                x = int(landmark.x*frame_width)\n",
        "                y = int(landmark.y*frame_height)\n",
        "                if id == 8:\n",
        "                    cv2.circle(img=frame, center=(x,y), radius=10, color=(0, 255, 255))\n",
        "                    index_x = screen_width/frame_width*x\n",
        "                    index_y = screen_height/frame_height*y\n",
        "\n",
        "                if id == 4:\n",
        "                    cv2.circle(img=frame, center=(x,y), radius=10, color=(0, 255, 255))\n",
        "                    thumb_x = screen_width/frame_width*x\n",
        "                    thumb_y = screen_height/frame_height*y\n",
        "                    print('outside', abs(index_y - thumb_y))\n",
        "                    if abs(index_y - thumb_y) < 20:\n",
        "                        pyautogui.click()\n",
        "                        pyautogui.sleep(1)\n",
        "                    elif abs(index_y - thumb_y) < 100:\n",
        "                        pyautogui.moveTo(index_x, index_y)\n",
        "    cv2.imshow('Virtual Mouse', frame)\n",
        "    cv2.waitKey(1)"
      ]
    },
    {
      "cell_type": "code",
      "execution_count": null,
      "id": "84700ea9-4768-4466-901d-1550c18735d1",
      "metadata": {},
      "outputs": [],
      "source": []
    }
  ],
  "metadata": {
    "kernelspec": {
      "display_name": "Python (Pyodide)",
      "language": "python",
      "name": "python"
    },
    "language_info": {
      "codemirror_mode": {
        "name": "python",
        "version": 3
      },
      "file_extension": ".py",
      "mimetype": "text/x-python",
      "name": "python",
      "nbconvert_exporter": "python",
      "pygments_lexer": "ipython3",
      "version": "3.8"
    }
  },
  "nbformat": 4,
  "nbformat_minor": 5
}
